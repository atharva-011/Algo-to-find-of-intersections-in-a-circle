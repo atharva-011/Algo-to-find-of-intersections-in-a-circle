{
 "cells": [
  {
   "cell_type": "markdown",
   "id": "54d5cad6",
   "metadata": {},
   "source": [
    "#### Name: Atharva Kulkarni\n",
    "#### Email-ID: atharva.kulkarni@columbia.edu"
   ]
  },
  {
   "cell_type": "code",
   "execution_count": 1,
   "id": "e1d6bf7b",
   "metadata": {},
   "outputs": [],
   "source": [
    "import bisect\n",
    "\n",
    "#Defining a class\n",
    "class CircleChordIntersections:\n",
    "    def __init__(self, input_lists):\n",
    "        self.rad_measures, self.identifiers = input_lists\n",
    "        self.chords = {}\n",
    "        self.sorted_chords = []\n",
    "        self.active_chords = []\n",
    "        self.intersections = 0\n",
    "\n",
    "        self._initialize_chords()\n",
    "\n",
    "        # Sort the chords by start points\n",
    "        self.sorted_chords = sorted(self.chords.values(), key=lambda x: x['start'])\n",
    "\n",
    "    def _initialize_chords(self):\n",
    "        # Pair each start with its corresponding end\n",
    "        for i, ident in enumerate(self.identifiers):\n",
    "            if 's' in ident:\n",
    "                self.chords[ident] = {'start': self.rad_measures[i]}\n",
    "            else:\n",
    "                self.chords['s' + ident[1:]]['end'] = self.rad_measures[i]\n",
    "\n",
    "    def _update_active_chords(self, start):\n",
    "        # Remove all active chords that have ended before the current chord's start\n",
    "        self.active_chords = [c for c in self.active_chords if c > start]\n",
    "\n",
    "    def _count_intersections_with_active_chords(self):\n",
    "        # Count intersections with active chords (all of them will intersect)\n",
    "        self.intersections += len(self.active_chords)\n",
    "\n",
    "    def _insert_into_active_chords(self, end):\n",
    "        # Insert current chord's end maintaining the sorted order\n",
    "        bisect.insort(self.active_chords, end)\n",
    "\n",
    "    def count_intersections(self):\n",
    "        # Iterate through the sorted chords\n",
    "        for chord in self.sorted_chords:\n",
    "            start, end = chord['start'], chord['end']\n",
    "\n",
    "            self._update_active_chords(start)\n",
    "            self._count_intersections_with_active_chords()\n",
    "            self._insert_into_active_chords(end)\n",
    "\n",
    "        return self.intersections"
   ]
  },
  {
   "cell_type": "code",
   "execution_count": 2,
   "id": "217dd782",
   "metadata": {},
   "outputs": [
    {
     "name": "stdout",
     "output_type": "stream",
     "text": [
      "Number of Intersections (Example 1): 1\n",
      "Number of Intersections (Example 2): 1\n"
     ]
    }
   ],
   "source": [
    "# Example Input as per instruction doc\n",
    "\n",
    "input_lists_1 = [(0.78, 1.47, 1.77, 3.92), (\"s_1\", \"s_2\", \"e_1\", \"e_2\")]\n",
    "circle_intersections = CircleChordIntersections(input_lists_1)\n",
    "result = circle_intersections.count_intersections()\n",
    "print(f\"Number of Intersections (Example 1): {result}\")\n",
    "\n",
    "input_lists_2 = [(0.9, 1.3, 1.70, 2.92), (\"s_1\", \"e_1\", \"s_2\", \"e_2\")]\n",
    "circle_intersections = CircleChordIntersections(input_lists_1)\n",
    "result = circle_intersections.count_intersections()\n",
    "print(f\"Number of Intersections (Example 2): {result}\")"
   ]
  },
  {
   "cell_type": "code",
   "execution_count": 3,
   "id": "efc54cb7",
   "metadata": {},
   "outputs": [
    {
     "name": "stdout",
     "output_type": "stream",
     "text": [
      "Number of Intersections\n",
      "\n",
      "No Intersections :- Expected: 0, Actual: 0\n",
      "One Intersection :- Expected: 1, Actual: 1\n",
      "Multiple Intersections :- Expected: 3, Actual: 3\n",
      "Chords Forming a Complete Cycle :- Expected: 7, Actual: 7\n",
      "Random Chords :- Expected: 2, Actual: 2\n"
     ]
    }
   ],
   "source": [
    "# Defining test cases\n",
    "test_cases = {\n",
    "    \"No Intersections\": { \"input\": [(0.5, 1.0, 2.0, 3.0), (\"s_1\", \"e_1\", \"s_2\", \"e_2\")],\n",
    "        \"expected\": 0\n",
    "    },\n",
    "    \"One Intersection\": { \"input\": [(0.78, 1.47, 1.77, 3.92), (\"s_1\", \"s_2\", \"e_1\", \"e_2\")],\n",
    "        \"expected\": 1\n",
    "    },\n",
    "    \"Multiple Intersections\": { \"input\": [(0.5, 2.5, 1.75, 3.0, 2.2, 3.3), (\"s_1\", \"e_1\", \"s_2\", \"e_2\", \"s_3\", \"e_3\")],\n",
    "        \"expected\": 3\n",
    "    },\n",
    "       \"Chords Forming a Complete Cycle\": {\"input\": [(0.5, 1.5, 1.0, 2.0, 1.4, 2.5, 1.9, 3.0, 2.4, 3.5), \n",
    "               (\"s_1\", \"e_1\", \"s_2\", \"e_2\", \"s_3\", \"e_3\", \"s_4\", \"e_4\", \"s_5\", \"e_5\")],\n",
    "        \"expected\": 7\n",
    "    },\n",
    "    \"Random Chords\": { \"input\": [(0.1, 1.2, 2.3, 3.4, 0.5, 1.6, 2.7, 3.8), \n",
    "               (\"s_1\", \"e_1\", \"s_2\", \"e_2\", \"s_3\", \"e_3\", \"s_4\", \"e_4\")],\n",
    "        \"expected\": 2\n",
    "    }\n",
    "}\n",
    "\n",
    "print(f\"Number of Intersections\\n\")\n",
    "\n",
    "for name, test in test_cases.items():\n",
    "    circle_intersections = CircleChordIntersections(test[\"input\"])\n",
    "    actual = circle_intersections.count_intersections()\n",
    "    print(f\"{name} :- Expected: {test['expected']}, Actual: {actual}\")"
   ]
  }
 ],
 "metadata": {
  "kernelspec": {
   "display_name": "Python 3",
   "language": "python",
   "name": "python3"
  },
  "language_info": {
   "codemirror_mode": {
    "name": "ipython",
    "version": 3
   },
   "file_extension": ".py",
   "mimetype": "text/x-python",
   "name": "python",
   "nbconvert_exporter": "python",
   "pygments_lexer": "ipython3",
   "version": "3.8.8"
  }
 },
 "nbformat": 4,
 "nbformat_minor": 5
}
